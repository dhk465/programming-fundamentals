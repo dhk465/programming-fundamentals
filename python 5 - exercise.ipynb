{
 "cells": [
  {
   "cell_type": "markdown",
   "metadata": {},
   "source": [
    "# W8 - Python files and modules"
   ]
  },
  {
   "cell_type": "markdown",
   "metadata": {},
   "source": [
    "# 1. Write function to read first n lines of a file"
   ]
  },
  {
   "cell_type": "code",
   "execution_count": 1,
   "metadata": {},
   "outputs": [],
   "source": [
    "def read_much(file:str, lines_to_read:int):\n",
    "    with open(file, 'r') as f:\n",
    "        lines = f.read().splitlines()\n",
    "        for index, line in enumerate(lines, 1):\n",
    "            if index <= lines_to_read:\n",
    "                print(line)"
   ]
  },
  {
   "cell_type": "code",
   "execution_count": 2,
   "metadata": {},
   "outputs": [
    {
     "name": "stdout",
     "output_type": "stream",
     "text": [
      "a combustion generator\n",
      "a set of laser traps\n",
      "a survival book\n"
     ]
    }
   ],
   "source": [
    "read_much('islanditems.txt', 3)"
   ]
  },
  {
   "cell_type": "markdown",
   "metadata": {},
   "source": [
    "# 2. Create script that will count vowels in string\n",
    "Example\n",
    "```shell\n",
    "$ python find_vowels.py 'hello world'\n",
    "hello world contains 3 vowels\n",
    "```"
   ]
  },
  {
   "cell_type": "code",
   "execution_count": 3,
   "metadata": {},
   "outputs": [],
   "source": [
    "script = \"\"\"import sys\n",
    "count = 0\n",
    "arg = sys.argv[1]\n",
    "for i in arg:\n",
    "    if i in 'aeiou':\n",
    "        count += 1\n",
    "print('{} contains {} vowels.'.format(arg, count))\n",
    "\"\"\"\n",
    "\n",
    "with open('find_vowels.py', 'w') as f:\n",
    "    f.write(script)"
   ]
  },
  {
   "cell_type": "markdown",
   "metadata": {},
   "source": [
    "# 3. Write function to count number of lines in a file\n",
    "Example\n",
    "```python\n",
    ">>>count_lines('myfile.txt')\n",
    "File has 12 lines\n",
    "```"
   ]
  },
  {
   "cell_type": "code",
   "execution_count": 4,
   "metadata": {},
   "outputs": [],
   "source": [
    "def count_lines(file:str):\n",
    "    with open(file, 'r') as f:\n",
    "        num_lines = len(f.read().splitlines())\n",
    "    print('File has {} lines.'.format(num_lines))"
   ]
  },
  {
   "cell_type": "code",
   "execution_count": 5,
   "metadata": {},
   "outputs": [
    {
     "name": "stdout",
     "output_type": "stream",
     "text": [
      "File has 39 lines.\n"
     ]
    }
   ],
   "source": [
    "count_lines('song.txt')"
   ]
  },
  {
   "cell_type": "markdown",
   "metadata": {},
   "source": [
    "# 4. Write function to count occurrence of given word in file\n",
    "Example\n",
    "```python\n",
    ">>>count_occurence('myfile.txt', 'apple')\n",
    "Searched term apple appeared 10 times\n",
    "```"
   ]
  },
  {
   "cell_type": "code",
   "execution_count": 6,
   "metadata": {},
   "outputs": [],
   "source": [
    "from collections import Counter\n",
    "\n",
    "def count_occurence(file:str, word:str):\n",
    "    with open(file, 'r') as f:\n",
    "        word_freq = Counter(f.read().split())\n",
    "    print(word_freq[word])"
   ]
  },
  {
   "cell_type": "code",
   "execution_count": 7,
   "metadata": {},
   "outputs": [
    {
     "name": "stdout",
     "output_type": "stream",
     "text": [
      "3\n"
     ]
    }
   ],
   "source": [
    "count_occurence('islanditems.txt', 'of')"
   ]
  },
  {
   "cell_type": "markdown",
   "metadata": {},
   "source": [
    "# 5. Write function to copy the contents of a file to another file\n",
    "\n",
    "```python\n",
    ">>>copy file('myfile.txt', 'myfile2.txt')\n",
    "```"
   ]
  },
  {
   "cell_type": "code",
   "execution_count": 8,
   "metadata": {},
   "outputs": [],
   "source": [
    "def copy_file(file:str, copy:str):\n",
    "    with open(file) as f1:\n",
    "        with open(copy, \"w\") as f2:\n",
    "            f2.write(f1.read())\n",
    "            \n",
    "# better with iterations thru the lines because reading a whole (large) file can lead to some data loss"
   ]
  },
  {
   "cell_type": "code",
   "execution_count": 9,
   "metadata": {},
   "outputs": [],
   "source": [
    "copy_file('islanditems.txt','islanditems_copy.txt')"
   ]
  },
  {
   "cell_type": "markdown",
   "metadata": {},
   "source": [
    "# 6. Write function to write nested list to file, each list on separate line\n",
    "Example data `my_list = [['a', 'b', 'c'], [1,2,3]]`"
   ]
  },
  {
   "cell_type": "code",
   "execution_count": 10,
   "metadata": {},
   "outputs": [],
   "source": [
    "def write_lists(file:str, nest:list):\n",
    "    with open(file, 'w') as f:\n",
    "        for i in nest:\n",
    "             if type(i) == list:\n",
    "                    f.write('{}\\n'.format(i))"
   ]
  },
  {
   "cell_type": "code",
   "execution_count": 11,
   "metadata": {},
   "outputs": [],
   "source": [
    "write_lists('linesfromlists.txt', [['h','e','l'],['l','o',1],[2,3,4],5])"
   ]
  },
  {
   "cell_type": "markdown",
   "metadata": {},
   "source": [
    "# 7. Write function to read  random line from a file"
   ]
  },
  {
   "cell_type": "code",
   "execution_count": 12,
   "metadata": {},
   "outputs": [],
   "source": [
    "from random import randint\n",
    "\n",
    "def read_random(file:str):\n",
    "    with open(file, 'r') as f:\n",
    "        list_read = f.read().splitlines()\n",
    "        print(list_read[randint(0,len(list_read)-1)])"
   ]
  },
  {
   "cell_type": "code",
   "execution_count": 13,
   "metadata": {},
   "outputs": [
    {
     "name": "stdout",
     "output_type": "stream",
     "text": [
      "a pack of vegetable seeds\n"
     ]
    }
   ],
   "source": [
    "read_random('islanditems.txt')"
   ]
  },
  {
   "cell_type": "markdown",
   "metadata": {},
   "source": [
    "# 8. Write function to read nth, n-1 and n+1 lines of file\n",
    "Example\n",
    "```python\n",
    ">>>read_specific_lines('myfile.txt', 10)\n",
    "```\n",
    "```\n",
    "Errors should never pass silently.\n",
    "Unless explicitly silenced.\n",
    "In the face of ambiguity, refuse the temptation to guess.\n",
    "```"
   ]
  },
  {
   "cell_type": "code",
   "execution_count": 14,
   "metadata": {},
   "outputs": [],
   "source": [
    "def read_specific_lines(file:str, line:int):\n",
    "    with open(file, 'r') as f:\n",
    "        list_read = f.read().splitlines()\n",
    "        if line == 1:\n",
    "            print('{}\\n{}'.format(list_read[line-1], list_read[line]))\n",
    "        elif line == len(list_read):\n",
    "            print('{}\\n{}'.format(list_read[line-2], list_read[line-1]))\n",
    "        else:\n",
    "            print('{}\\n{}\\n{}'.format(list_read[line-2], list_read[line-1], list_read[line]))"
   ]
  },
  {
   "cell_type": "code",
   "execution_count": 15,
   "metadata": {},
   "outputs": [
    {
     "name": "stdout",
     "output_type": "stream",
     "text": [
      "There's something you've forgotten\n",
      "And that's to laugh and smile and dance and sing\n",
      "When you're feeling in the dumps\n"
     ]
    }
   ],
   "source": [
    "read_specific_lines('song.txt', 10)"
   ]
  },
  {
   "cell_type": "markdown",
   "metadata": {},
   "source": [
    "# 9. Write function to read file and find the longest word\n",
    "Example\n",
    "```python\n",
    ">>>find_longest_word('myfile.txt')\n",
    "supercalifragilisticexpialidocious\n",
    "```"
   ]
  },
  {
   "cell_type": "code",
   "execution_count": 16,
   "metadata": {},
   "outputs": [],
   "source": [
    "def find_longest_word(file:str):\n",
    "    with open(file, 'r') as f:\n",
    "        word_list = f.read().split()\n",
    "    longest_word =  max(word_list, key=len)\n",
    "    return longest_word\n",
    "\n",
    "# or make an iteration thru all the words and compare manually"
   ]
  },
  {
   "cell_type": "code",
   "execution_count": 17,
   "metadata": {},
   "outputs": [
    {
     "name": "stdout",
     "output_type": "stream",
     "text": [
      "combustion\n",
      "Nothing!Always\n"
     ]
    }
   ],
   "source": [
    "print(find_longest_word('islanditems.txt'))\n",
    "print(find_longest_word('song.txt'))"
   ]
  },
  {
   "cell_type": "markdown",
   "metadata": {},
   "source": [
    "# 10. Write function to concatenate 2 files together and store them as new file\n",
    "```\n",
    ">>>concatenate_files('myfile1.txt', 'myfile2.txt', 'myfile_new.txt')\n",
    "```"
   ]
  },
  {
   "cell_type": "code",
   "execution_count": 18,
   "metadata": {},
   "outputs": [],
   "source": [
    "def concatenate_files(file1:str, file2:str, file_res:str):\n",
    "    with open(file1, 'r') as f1:\n",
    "        with open(file2, 'r') as f2:\n",
    "            with open(file_res, 'w') as f_res:\n",
    "                f_res.write(f1.read() + '\\n' + f2.read())"
   ]
  },
  {
   "cell_type": "code",
   "execution_count": 19,
   "metadata": {},
   "outputs": [],
   "source": [
    "concatenate_files('islanditems.txt','islanditems_new.txt','islanditems_all.txt')"
   ]
  },
  {
   "cell_type": "markdown",
   "metadata": {},
   "source": [
    "# BONUS: Write function to read file and print only words containing letters 'p', 'y', 't', 'o' or 'n' and make these letters uppercase\n",
    "Example\n",
    "```python\n",
    ">>>print_selected_words('myfile.txt')\n",
    "lOve\n",
    "simPliciTY\n",
    "PaTieNce\n",
    "```"
   ]
  },
  {
   "cell_type": "code",
   "execution_count": 22,
   "metadata": {},
   "outputs": [],
   "source": [
    "def print_selected_words(file:str):\n",
    "    special = 'python'\n",
    "    with open(file, 'r') as f:\n",
    "        word_list = f.read().split()\n",
    "    for word.lower() in word_list:\n",
    "        new_word = ''.join(c.upper() if c in special else c for c in word)\n",
    "        for i, c in enumerate(new_word):\n",
    "            if c.isupper():\n",
    "                print(new_word)\n",
    "                break"
   ]
  },
  {
   "cell_type": "code",
   "execution_count": 23,
   "metadata": {},
   "outputs": [
    {
     "name": "stdout",
     "output_type": "stream",
     "text": [
      "cOmbusTiON\n",
      "geNeraTOr\n",
      "seT\n",
      "Of\n",
      "TraPs\n",
      "bOOk\n",
      "Pack\n",
      "Of\n",
      "vegeTable\n",
      "Pack\n",
      "Of\n",
      "waTer\n",
      "bOTTles\n"
     ]
    }
   ],
   "source": [
    "print_selected_words('islanditems.txt')"
   ]
  },
  {
   "cell_type": "code",
   "execution_count": null,
   "metadata": {},
   "outputs": [],
   "source": []
  }
 ],
 "metadata": {
  "kernelspec": {
   "display_name": "Python 3",
   "language": "python",
   "name": "python3"
  },
  "language_info": {
   "codemirror_mode": {
    "name": "ipython",
    "version": 3
   },
   "file_extension": ".py",
   "mimetype": "text/x-python",
   "name": "python",
   "nbconvert_exporter": "python",
   "pygments_lexer": "ipython3",
   "version": "3.6.6"
  }
 },
 "nbformat": 4,
 "nbformat_minor": 2
}
