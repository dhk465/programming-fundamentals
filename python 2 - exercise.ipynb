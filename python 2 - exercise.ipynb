{
 "cells": [
  {
   "cell_type": "markdown",
   "metadata": {},
   "source": [
    "# W5 - Python conditions and loops assignment"
   ]
  },
  {
   "cell_type": "markdown",
   "metadata": {},
   "source": [
    "# 1. Using for loop, create nested list from dictionary, see example\n",
    "```python\n",
    "fruits = {'banana':3,'apple':2, 'mango':1, 'kiwi':5}\n",
    "fruits_list = [['banana', 'banana', 'banana'], ['apple', 'apple'], ['mango'], ['kiwi', 'kiwi', 'kiwi', 'kiwi', 'kiwi']]\n",
    "```"
   ]
  },
  {
   "cell_type": "code",
   "execution_count": 1,
   "metadata": {},
   "outputs": [
    {
     "name": "stdout",
     "output_type": "stream",
     "text": [
      "[['earth', 'earth', 'earth', 'earth', 'earth'], ['mars', 'mars', 'mars', 'mars', 'mars', 'mars', 'mars'], ['jupiter'], ['mercury', 'mercury', 'mercury', 'mercury', 'mercury', 'mercury', 'mercury', 'mercury'], ['neptune', 'neptune', 'neptune', 'neptune'], ['venus', 'venus', 'venus', 'venus', 'venus', 'venus'], ['saturn', 'saturn'], ['uranus', 'uranus', 'uranus']]\n"
     ]
    }
   ],
   "source": [
    "planets = {'earth':5, 'mars':7, 'jupiter':1, 'mercury':8, 'neptune':4, 'venus':6, 'saturn':2, 'uranus':3}\n",
    "planets_list = [[planet]*size for planet, size in planets.items()]\n",
    "print(planets_list)"
   ]
  },
  {
   "cell_type": "markdown",
   "metadata": {},
   "source": [
    "# 2. Select the shortest element from the list\n",
    "```python\n",
    "fruits = ['banana','apple', 'mango', 'kiwi']\n",
    "shortest_fruit = 'kiwi'\n",
    "```"
   ]
  },
  {
   "cell_type": "code",
   "execution_count": 2,
   "metadata": {},
   "outputs": [
    {
     "name": "stdout",
     "output_type": "stream",
     "text": [
      "mars\n"
     ]
    }
   ],
   "source": [
    "planets = ['earth', 'mars', 'jupiter', 'mercury', 'neptune', 'venus', 'saturn', 'uranus']\n",
    "shortest_planet = planets[0]\n",
    "for x in planets:\n",
    "    if len(x) <= len(shortest_planet):\n",
    "        shortest_planet = x\n",
    "print(shortest_planet)"
   ]
  },
  {
   "cell_type": "markdown",
   "metadata": {},
   "source": [
    "# 3. Using loops and conditions, count occurrence of numbers, letters and other symbols in the string\n",
    "Example\n",
    "```python\n",
    "'''What a to do to die today at a 1/4 or 2 to 2. \n",
    "A terrible difficult thing to say but a harder thing still to do. \n",
    "The dragon will come at the beat of the drum with a rat-tat-tat-tat-tat-tattoo \n",
    "at a 1/4 or 2 to 2 today, at a 1/4 or 2 to 2.'''\n",
    "Number occurence: 12\n",
    "Letter occurence: 158\n",
    "Other symbols: 66\n",
    "```"
   ]
  },
  {
   "cell_type": "code",
   "execution_count": 2,
   "metadata": {},
   "outputs": [
    {
     "name": "stdout",
     "output_type": "stream",
     "text": [
      "Number occurence: 6\n",
      "Letter occurence: 788\n",
      "Other symbols: 175\n"
     ]
    }
   ],
   "source": [
    "numbers = '0123456789'\n",
    "letters = 'abcdefghijklmnopqrstuvwxyz'\n",
    "others = ''' !@#$%^&*()_+-=\\[]{}|.,:;~`'\"/'''\n",
    "text = '''A black hole is a region of spacetime exhibiting such strong gravitational effects that nothing—not even particles and electromagnetic radiation such as light—can escape from inside it.[1]\n",
    "The theory of general relativity predicts that a sufficiently compact mass can deform spacetime to form a black hole.[2][3]\n",
    "The boundary of the region from which no escape is possible is called the event horizon.\n",
    "Although the event horizon has an enormous effect on the fate and circumstances of an object crossing it, no locally detectable features appear to be observed.[4]\n",
    "In many ways a black hole acts like an ideal black body, as it reflects no light.[5][6]\n",
    "Moreover, quantum field theory in curved spacetime predicts that event horizons emit Hawking radiation, with the same spectrum as a black body of a temperature inversely proportional to its mass.\n",
    "This temperature is on the order of billionths of a kelvin for black holes of stellar mass, making it essentially impossible to observe.'''\n",
    "def countSym(symbols, context):\n",
    "    count = 0\n",
    "    for symbol in symbols:\n",
    "        for text_symbol in context:\n",
    "            if text_symbol == symbol:\n",
    "                count += 1\n",
    "    return count;\n",
    "print('Number occurence:', countSym(numbers, text))\n",
    "print('Letter occurence:', countSym(letters, text))\n",
    "print('Other symbols:', countSym(others, text))\n",
    "\n",
    "# or using .isnumeric() and .isalpha() for the if conditions"
   ]
  },
  {
   "cell_type": "markdown",
   "metadata": {},
   "source": [
    "# 4. Calculate dog's age in human years using [this article]\n",
    "(https://pets.webmd.com/dogs/how-to-calculate-your-dogs-age)\n",
    "*Note: for simplicity, use values for medium dogs*"
   ]
  },
  {
   "cell_type": "code",
   "execution_count": 20,
   "metadata": {},
   "outputs": [
    {
     "name": "stdout",
     "output_type": "stream",
     "text": [
      "How old is your dog? 17\n",
      "Long live the puppy!\n"
     ]
    }
   ],
   "source": [
    "age_human = [15, 24, 28, 32, 36, 42, 47, 51, 56, 60, 65, 69, 74, 78, 83, 87]\n",
    "age_dog = {i:age_human[i-1] for i in range(16+1)}\n",
    "age_input = int(input('How old is your dog? '))\n",
    "if age_input > 16:\n",
    "    print('Long live the puppy!')\n",
    "else:\n",
    "    print('''Converting your dog's age into the human age...''', age_dog[age_input])"
   ]
  },
  {
   "cell_type": "markdown",
   "metadata": {},
   "source": [
    "# 5. Count the number of even and odd numbers from a series of numbers.\n",
    "```python\n",
    "seq = [1,44,30,15,2,18]\n",
    "```\n",
    "Odd numbers: 2\n",
    "Even numbers: 4"
   ]
  },
  {
   "cell_type": "code",
   "execution_count": 3,
   "metadata": {},
   "outputs": [
    {
     "name": "stdout",
     "output_type": "stream",
     "text": [
      "Odd numbers: 8\n",
      "Even numbers: 12\n"
     ]
    }
   ],
   "source": [
    "seq = [20, 49, 42, 8, 99, 64, 21, 76, 87, 17, 31, 79, 85, 69, 92, 86, 23, 63, 59, 24]\n",
    "odd = 0\n",
    "even = 0\n",
    "for num in seq:\n",
    "    if num % 2 == 0:\n",
    "        odd += 1\n",
    "    else:\n",
    "        even += 1\n",
    "print('Odd numbers:', odd)\n",
    "print('Even numbers:', even)"
   ]
  },
  {
   "cell_type": "markdown",
   "metadata": {},
   "source": [
    "# 6. Using loops, print following pattern\n",
    "```\n",
    "*\n",
    "**\n",
    "***\n",
    "****\n",
    "```"
   ]
  },
  {
   "cell_type": "code",
   "execution_count": 5,
   "metadata": {},
   "outputs": [
    {
     "name": "stdout",
     "output_type": "stream",
     "text": [
      "*\n",
      "**\n",
      "***\n",
      "****\n"
     ]
    }
   ],
   "source": [
    "for i in range(4):\n",
    "    print('*'*(i+1))"
   ]
  },
  {
   "cell_type": "markdown",
   "metadata": {},
   "source": [
    "# 7. Using list comprehensions, transform all vowels within the string to upper case\n",
    "\n",
    "example `python -> pYthOn`"
   ]
  },
  {
   "cell_type": "code",
   "execution_count": 7,
   "metadata": {},
   "outputs": [
    {
     "name": "stdout",
     "output_type": "stream",
     "text": [
      "rOcInAntE\n"
     ]
    }
   ],
   "source": [
    "str_original = 'rocinante'\n",
    "str_vowels = 'aeiou'\n",
    "list_01 = [letter.upper() if letter in str_vowels else letter.lower() for letter in str_original]\n",
    "print(''.join(list_01))"
   ]
  },
  {
   "cell_type": "markdown",
   "metadata": {},
   "source": [
    "# 8. Print position number of the letter\n",
    "1. Ask user to type letter (just one)\n",
    "2. Print position of the letter in the alphabet\n",
    "\n",
    "Example\n",
    "```\n",
    "Type letter: B\n",
    "Letter B position is 2.\n",
    "```"
   ]
  },
  {
   "cell_type": "code",
   "execution_count": 9,
   "metadata": {},
   "outputs": [
    {
     "name": "stdout",
     "output_type": "stream",
     "text": [
      "Type a letter: B\n",
      "The position of the letter b is: 2\n"
     ]
    }
   ],
   "source": [
    "letter = input('Type a letter: ').lower()\n",
    "alphabet = 'abcdefghijklmnopqrstuvwxyz'\n",
    "while letter not in alphabet:\n",
    "    print('an invalid input')\n",
    "    letter = input('Type a letter: ')\n",
    "else:\n",
    "    print('The position of the letter {} is: {}'.format(letter, alphabet.index(letter) + 1))"
   ]
  },
  {
   "cell_type": "markdown",
   "metadata": {},
   "source": [
    "# 9. Find the median of three values (do not used median function)\n",
    "Ask user to input 3 values\n",
    "Example\n",
    "```\n",
    "Type number:5\n",
    "Type number:12\n",
    "Type number:6\n",
    "\n",
    "Median value is 6.\n",
    "```\n"
   ]
  },
  {
   "cell_type": "code",
   "execution_count": 11,
   "metadata": {},
   "outputs": [
    {
     "name": "stdout",
     "output_type": "stream",
     "text": [
      "Type an integer: 7\n",
      "Type an integer: 8\n",
      "Type an integer: 1\n",
      "Median value is 7\n"
     ]
    }
   ],
   "source": [
    "num01 = int(input('Type an integer: '))\n",
    "num02 = int(input('Type an integer: '))\n",
    "num03 = int(input('Type an integer: '))\n",
    "if num01 <= num02 <= num03 or num03 <= num02 <= num01:\n",
    "    print('Median value is', num02)\n",
    "elif num02 <= num01 <= num03 or num03 <= num01 <= num02:\n",
    "    print('Median value is', num01)\n",
    "else:\n",
    "    print('Median value is', num03)\n",
    "\n",
    "# or use sort() and take the list[1]"
   ]
  },
  {
   "cell_type": "markdown",
   "metadata": {},
   "source": [
    "# 10. Using `break` and `continue` statements, print numbers\n",
    "1. Ask user for their favourite number \n",
    "2. If youser chose number 13, ask user for another number\n",
    "3. Do not print number 13\n",
    "4. Finish printing after user's favourite number"
   ]
  },
  {
   "cell_type": "code",
   "execution_count": 9,
   "metadata": {},
   "outputs": [
    {
     "name": "stdout",
     "output_type": "stream",
     "text": [
      "Favourite number? 15\n",
      "0\n",
      "1\n",
      "2\n",
      "3\n",
      "4\n",
      "5\n",
      "6\n",
      "7\n",
      "8\n",
      "9\n",
      "10\n",
      "11\n",
      "12\n",
      "14\n",
      "15\n"
     ]
    }
   ],
   "source": [
    "num = int(input('Favourite number? '))\n",
    "while num == 13:\n",
    "    num = int(input('Favourite number? '))\n",
    "for i in range(num + 1):\n",
    "    if i == 13:\n",
    "        continue\n",
    "    print(i)"
   ]
  },
  {
   "cell_type": "markdown",
   "metadata": {},
   "source": [
    "# BONUS: Using nested loops, print first letter of your name:\n",
    "\n",
    "```\n",
    "  ***      ****                                                             \n",
    " *   *     *   *                                                         \n",
    " *   *     *   *                                                         \n",
    " *****     *   *                                                         \n",
    " *   *     *   *                                                         \n",
    " *   *     *   *                                                         \n",
    " *   *     ****\n",
    "```"
   ]
  },
  {
   "cell_type": "code",
   "execution_count": 10,
   "metadata": {
    "scrolled": true
   },
   "outputs": [
    {
     "name": "stdout",
     "output_type": "stream",
     "text": [
      "****\n",
      "*   *   \n",
      "*   *   \n",
      "*   *   \n",
      "*   *   \n",
      "*   *   \n",
      "****\n"
     ]
    }
   ],
   "source": [
    "for i in range(8):\n",
    "    if i < 1 or i > 6:\n",
    "        for j in range(4):\n",
    "            print('*', end='')\n",
    "        print()\n",
    "    if i > 1 and i < 7:\n",
    "        for j in range(1, 6, 4):\n",
    "            print('*', end='')\n",
    "            for k in range(3):\n",
    "                print(' ', end='')\n",
    "        print()"
   ]
  },
  {
   "cell_type": "code",
   "execution_count": null,
   "metadata": {},
   "outputs": [],
   "source": []
  }
 ],
 "metadata": {
  "kernelspec": {
   "display_name": "Python 3",
   "language": "python",
   "name": "python3"
  },
  "language_info": {
   "codemirror_mode": {
    "name": "ipython",
    "version": 3
   },
   "file_extension": ".py",
   "mimetype": "text/x-python",
   "name": "python",
   "nbconvert_exporter": "python",
   "pygments_lexer": "ipython3",
   "version": "3.6.6"
  }
 },
 "nbformat": 4,
 "nbformat_minor": 2
}
