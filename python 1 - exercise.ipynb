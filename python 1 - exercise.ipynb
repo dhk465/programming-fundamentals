{
 "cells": [
  {
   "cell_type": "markdown",
   "metadata": {},
   "source": [
    "# W4 - Python data types assignment"
   ]
  },
  {
   "cell_type": "markdown",
   "metadata": {},
   "source": [
    "# 1. Print word `python` in reverse order"
   ]
  },
  {
   "cell_type": "code",
   "execution_count": 1,
   "metadata": {},
   "outputs": [
    {
     "name": "stdout",
     "output_type": "stream",
     "text": [
      "nohtyp\n"
     ]
    }
   ],
   "source": [
    "word = 'python'\n",
    "print(word[-1] + word[-2] + word[-3] + word[-4] + word[-5] + word[-6])"
   ]
  },
  {
   "cell_type": "markdown",
   "metadata": {},
   "source": [
    "# 2. Define variables `apples` and `oranges` and using `format` methos print following string:\n",
    ">I have **7** apples and **5** oranges, therefore I have **12** fruits.`"
   ]
  },
  {
   "cell_type": "code",
   "execution_count": 2,
   "metadata": {},
   "outputs": [
    {
     "name": "stdout",
     "output_type": "stream",
     "text": [
      "I have 7 apples and 5 oranges, therefore I have 12 fruits.\n"
     ]
    }
   ],
   "source": [
    "apples = 7\n",
    "oranges = 5\n",
    "print('I have {} apples and {} oranges, therefore I have {} fruits.'.format(apples, oranges, apples + oranges))"
   ]
  },
  {
   "cell_type": "markdown",
   "metadata": {},
   "source": [
    "# 3. Convert list of characters (`['a', 'b', 'c', 'd']`) to string (`'abc'`)"
   ]
  },
  {
   "cell_type": "code",
   "execution_count": 26,
   "metadata": {},
   "outputs": [
    {
     "name": "stdout",
     "output_type": "stream",
     "text": [
      "abc\n"
     ]
    }
   ],
   "source": [
    "list01 = ['a', 'b', 'c', 'd']\n",
    "del list01[3]\n",
    "str01 = ''.join(list01)\n",
    "print(str01)"
   ]
  },
  {
   "cell_type": "markdown",
   "metadata": {},
   "source": [
    "# 4. Get difference betweet two lists (e.g. `[1, 2, 3, 4, 8, 12]` and `[1, 4, 8, 2]`)"
   ]
  },
  {
   "cell_type": "code",
   "execution_count": 30,
   "metadata": {},
   "outputs": [
    {
     "name": "stdout",
     "output_type": "stream",
     "text": [
      "{3, 12}\n"
     ]
    }
   ],
   "source": [
    "list01 = [1, 2, 3, 4, 8, 12]\n",
    "list02 = [1, 4, 8, 2]\n",
    "print(set(list01).difference(list02))"
   ]
  },
  {
   "cell_type": "markdown",
   "metadata": {},
   "source": [
    "# 5. Add an item to a tuple\n",
    "```python\n",
    "tuple_numbers = (4, 6, 2, 8, 3, 1) \n",
    "```"
   ]
  },
  {
   "cell_type": "code",
   "execution_count": 45,
   "metadata": {},
   "outputs": [
    {
     "name": "stdout",
     "output_type": "stream",
     "text": [
      "(4, 6, 2, 8, 3, 1, 5)\n"
     ]
    }
   ],
   "source": [
    "tuple_numbers = (4, 6, 2, 8, 3, 1)\n",
    "tuple_add = (5, )\n",
    "tuple_numeros = tuple_numbers + tuple_add\n",
    "del tuple_numbers\n",
    "tuple_numbers = tuple_numeros\n",
    "del tuple_numeros\n",
    "print(tuple_numbers)"
   ]
  },
  {
   "cell_type": "markdown",
   "metadata": {},
   "source": [
    "# 6. Convert a tuple to a string\n",
    "```python\n",
    "input_tuple = ('p', 'y', 't', 'h', 'o', 'n')\n",
    "output_string = 'python'\n",
    "```"
   ]
  },
  {
   "cell_type": "code",
   "execution_count": 57,
   "metadata": {},
   "outputs": [
    {
     "name": "stdout",
     "output_type": "stream",
     "text": [
      "python\n"
     ]
    }
   ],
   "source": [
    "input_tuple = ('p', 'y', 't', 'h', 'o', 'n')\n",
    "output_string = ''\n",
    "for x in input_tuple:\n",
    "    output_string = output_string + x\n",
    "print(output_string)"
   ]
  },
  {
   "cell_type": "markdown",
   "metadata": {},
   "source": [
    "# 7. Combine two dictionaries into one\n",
    "\n",
    "```python\n",
    "names1 = {'Jack': 25, 'John': 26, 'Emily': 23}\n",
    "names2 = {'Carol': 28, 'Walter': 22}\n",
    "```"
   ]
  },
  {
   "cell_type": "code",
   "execution_count": 61,
   "metadata": {},
   "outputs": [
    {
     "name": "stdout",
     "output_type": "stream",
     "text": [
      "{'Jack': 25, 'John': 26, 'Emily': 23, 'Carol': 28, 'Walter': 22}\n"
     ]
    }
   ],
   "source": [
    "names1 = {'Jack': 25, 'John': 26, 'Emily': 23}\n",
    "names2 = {'Carol': 28, 'Walter': 22}\n",
    "names1.update(names2)\n",
    "print(names1)"
   ]
  },
  {
   "cell_type": "markdown",
   "metadata": {},
   "source": [
    "# 8. Sum all the items in a dictionary\n",
    "```python\n",
    "ice_cream_price = {'Chocolate': 200, 'Strawberry': 188, 'Vanilla': 175, 'Caramel': 180}\n",
    "```"
   ]
  },
  {
   "cell_type": "code",
   "execution_count": 72,
   "metadata": {},
   "outputs": [
    {
     "name": "stdout",
     "output_type": "stream",
     "text": [
      "743\n",
      "743\n"
     ]
    }
   ],
   "source": [
    "ice_cream_price = {'Chocolate': 200, 'Strawberry': 188, 'Vanilla': 175, 'Caramel': 180}\n",
    "s = 0\n",
    "for x in ice_cream_price:\n",
    "    s = s + ice_cream_price.get(x)\n",
    "print(s)\n",
    "\n",
    "# or manually\n",
    "\n",
    "s = ice_cream_price.get('Chocolate') + ice_cream_price.get('Strawberry')+ ice_cream_price.get('Vanilla') + ice_cream_price.get('Caramel')\n",
    "print(s)"
   ]
  },
  {
   "cell_type": "markdown",
   "metadata": {},
   "source": [
    "# 9. Remove item(s) from set. Can you gess which item will be removed?\n",
    "```python\n",
    "set_numbers = {1, 2, 3, 4, 5}\n",
    "set_letters = {'p', 'y', 't', 'h', 'o', 'n'}\n",
    "```"
   ]
  },
  {
   "cell_type": "code",
   "execution_count": 77,
   "metadata": {},
   "outputs": [
    {
     "name": "stdout",
     "output_type": "stream",
     "text": [
      "{2, 3, 4, 5}\n",
      "{'y', 't', 'h', 'p', 'n'}\n"
     ]
    }
   ],
   "source": [
    "set_numbers = {1, 2, 3, 4, 5}\n",
    "set_letters = {'p', 'y', 't', 'h', 'o', 'n'}\n",
    "set_numbers.pop()\n",
    "set_letters.pop()\n",
    "print(set_numbers)\n",
    "print(set_letters)"
   ]
  },
  {
   "cell_type": "markdown",
   "metadata": {},
   "source": [
    "# 10. split list into 3 different variables \n",
    "```python\n",
    "color = [\n",
    "    (\"Black\", \"#000000\", \"rgb(0, 0, 0)\"), \n",
    "    (\"Red\", \"#FF0000\", \"rgb(255, 0, 0)\"), \n",
    "    (\"Yellow\", \"#FFFF00\", \"rgb(255, 255, 0)\")\n",
    "]\n",
    "```"
   ]
  },
  {
   "cell_type": "code",
   "execution_count": 80,
   "metadata": {},
   "outputs": [
    {
     "name": "stdout",
     "output_type": "stream",
     "text": [
      "['Black', 'Red', 'Yellow']\n",
      "['#000000', '#FF0000', '#FFFF00']\n",
      "['rgb(0, 0, 0)', 'rgb(255, 0, 0)', 'rgb(255, 255, 0)']\n"
     ]
    }
   ],
   "source": [
    "color = [\n",
    "    (\"Black\", \"#000000\", \"rgb(0, 0, 0)\"), \n",
    "    (\"Red\", \"#FF0000\", \"rgb(255, 0, 0)\"), \n",
    "    (\"Yellow\", \"#FFFF00\", \"rgb(255, 255, 0)\")\n",
    "]\n",
    "color_word = [color[0][0], color[1][0], color[2][0]]\n",
    "color_hex = [color[0][1], color[1][1], color[2][1]]\n",
    "color_rgb = [color[0][2], color[1][2], color[2][2]]\n",
    "print(color_word)\n",
    "print(color_hex)\n",
    "print(color_rgb)"
   ]
  },
  {
   "cell_type": "markdown",
   "metadata": {},
   "source": [
    "# BONUS: test whether every element of first set is in second set ans vice versa using using relational operators\n",
    "```python\n",
    "set_a = set(['Chocolate', 'Strawberry', 'Vanilla', 'Caramel'])\n",
    "set_b = set(['Vanilla', 'Caramel','Chocolate', 'Strawberry'])\n",
    "set_c = set(['Chocolate'])\n",
    "```"
   ]
  },
  {
   "cell_type": "code",
   "execution_count": 87,
   "metadata": {},
   "outputs": [
    {
     "name": "stdout",
     "output_type": "stream",
     "text": [
      "{'Vanilla', 'Strawberry', 'Chocolate', 'Caramel'}\n",
      "{'Chocolate', 'Strawberry', 'Vanilla', 'Caramel'}\n"
     ]
    }
   ],
   "source": [
    "set_a = set(['Chocolate', 'Strawberry', 'Vanilla', 'Caramel'])\n",
    "set_b = set(['Vanilla', 'Caramel','Chocolate', 'Strawberry'])\n",
    "print(set_a.intersection(set_b))\n",
    "print(set_b.intersection(set_a))"
   ]
  },
  {
   "cell_type": "code",
   "execution_count": null,
   "metadata": {},
   "outputs": [],
   "source": []
  }
 ],
 "metadata": {
  "kernelspec": {
   "display_name": "Python 3",
   "language": "python",
   "name": "python3"
  },
  "language_info": {
   "codemirror_mode": {
    "name": "ipython",
    "version": 3
   },
   "file_extension": ".py",
   "mimetype": "text/x-python",
   "name": "python",
   "nbconvert_exporter": "python",
   "pygments_lexer": "ipython3",
   "version": "3.6.6"
  }
 },
 "nbformat": 4,
 "nbformat_minor": 2
}
