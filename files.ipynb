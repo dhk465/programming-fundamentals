{
 "cells": [
  {
   "cell_type": "code",
   "execution_count": 5,
   "metadata": {},
   "outputs": [],
   "source": [
    "f = open('extract_letter.py', 'r')\n",
    "data = f.read()\n",
    "f.close()"
   ]
  },
  {
   "cell_type": "code",
   "execution_count": 6,
   "metadata": {},
   "outputs": [],
   "source": [
    "with f = open('extract_letter.py', 'r') as f:\n",
    "    data = f.read()\n",
    "# no need to close()"
   ]
  },
  {
   "cell_type": "code",
   "execution_count": 7,
   "metadata": {},
   "outputs": [
    {
     "name": "stdout",
     "output_type": "stream",
     "text": [
      "<class '_io.TextIOWrapper'>\n"
     ]
    }
   ],
   "source": [
    "with open('new_writing.txt', 'w', encoding='utf-8') as f:\n",
    "    print(type(f))\n",
    "    f.write('Hello world!')\n",
    "# if the file does not exists, open() creates and writes the file.\n",
    "# if it does, open() rewrites the file."
   ]
  },
  {
   "cell_type": "code",
   "execution_count": 12,
   "metadata": {},
   "outputs": [],
   "source": [
    "fruits = ['apple', 'pear', 'apricot', 'banana', 'kiwi']\n",
    "with open('fruits.txt', 'w', encoding='utf-8') as f:\n",
    "    f.write(''.join([fruit for fruit in fruits]))\n",
    "# write() does not automatically put a new line at the end"
   ]
  },
  {
   "cell_type": "code",
   "execution_count": 40,
   "metadata": {},
   "outputs": [
    {
     "name": "stdout",
     "output_type": "stream",
     "text": [
      "CPU times: user 100 µs, sys: 428 µs, total: 528 µs\n",
      "Wall time: 762 µs\n"
     ]
    }
   ],
   "source": [
    "%%time\n",
    "fruits = ['apple', 'pear', 'apricot', 'banana', 'kiwi']\n",
    "with open('fruits_lines.txt', 'w', encoding='utf-8') as f:\n",
    "    f.write('\\n'.join([fruit for fruit in fruits]))"
   ]
  },
  {
   "cell_type": "code",
   "execution_count": 41,
   "metadata": {},
   "outputs": [
    {
     "name": "stdout",
     "output_type": "stream",
     "text": [
      "CPU times: user 206 µs, sys: 880 µs, total: 1.09 ms\n",
      "Wall time: 1.39 ms\n"
     ]
    }
   ],
   "source": [
    "%%time\n",
    "fruits = ['apple', 'pear', 'apricot', 'banana', 'kiwi']\n",
    "with open('fruits_lines.txt', 'w', encoding='utf-8') as f:\n",
    "    for fruit in fruits:\n",
    "        f.write(fruit + '\\n')"
   ]
  },
  {
   "cell_type": "code",
   "execution_count": 42,
   "metadata": {},
   "outputs": [
    {
     "name": "stdout",
     "output_type": "stream",
     "text": [
      "['apple', 'pear', 'apricot', 'banana', 'kiwi']\n"
     ]
    }
   ],
   "source": [
    "with open('fruits_lines.txt', 'r', encoding='utf-8') as f:\n",
    "    fruit_data = f.read().splitlines()\n",
    "# reading the text and write a LIST with each line as an item\n",
    "print(fruit_data)"
   ]
  },
  {
   "cell_type": "code",
   "execution_count": 68,
   "metadata": {},
   "outputs": [],
   "source": [
    "with open('islanditems_new.txt', 'w', encoding='utf-8') as f:\n",
    "    # print(len(f.read().splitlines()))\n",
    "    items = ['a combustion generator', 'a set of laser traps', 'a survival book', 'a pack of vegetable seeds', 'a pack of water bottles']\n",
    "    for line, item in enumerate(items, 1):\n",
    "        f.write('{} {}\\n'.format(line, item)) # instead of line + 1, enumerate argument 1 already set up the index starting at 1"
   ]
  },
  {
   "cell_type": "code",
   "execution_count": 70,
   "metadata": {},
   "outputs": [
    {
     "name": "stdout",
     "output_type": "stream",
     "text": [
      "1 a combustion generator\n",
      "2 a set of laser traps\n",
      "3 a survival book\n",
      "4 a pack of vegetable seeds\n",
      "5 a pack of water bottles\n"
     ]
    }
   ],
   "source": [
    "with open('islanditems.txt', 'r', encoding='utf-8') as f:\n",
    "    # print(len(f.read().splitlines()))\n",
    "    items = f.read().splitlines()\n",
    "    for line, item in enumerate(items, 1):\n",
    "        print(line, item)"
   ]
  },
  {
   "cell_type": "code",
   "execution_count": null,
   "metadata": {},
   "outputs": [],
   "source": []
  }
 ],
 "metadata": {
  "kernelspec": {
   "display_name": "Python 3",
   "language": "python",
   "name": "python3"
  },
  "language_info": {
   "codemirror_mode": {
    "name": "ipython",
    "version": 3
   },
   "file_extension": ".py",
   "mimetype": "text/x-python",
   "name": "python",
   "nbconvert_exporter": "python",
   "pygments_lexer": "ipython3",
   "version": "3.6.6"
  }
 },
 "nbformat": 4,
 "nbformat_minor": 2
}
