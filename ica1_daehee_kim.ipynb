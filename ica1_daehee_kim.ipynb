{
 "cells": [
  {
   "cell_type": "code",
   "execution_count": 1,
   "metadata": {},
   "outputs": [],
   "source": [
    "def print_box(width: int, height: int):\n",
    "    space = \" \"\n",
    "    for i in range(height):\n",
    "            if i == 0 or i == height - 1:\n",
    "                print('{}'.format('*'*width))\n",
    "            else:\n",
    "                print('*' + space*(width-2) +'*')"
   ]
  },
  {
   "cell_type": "code",
   "execution_count": 2,
   "metadata": {},
   "outputs": [],
   "source": [
    "def get_longest_element(list_str: list):\n",
    "    return max(list_str, key=len)"
   ]
  },
  {
   "cell_type": "code",
   "execution_count": 3,
   "metadata": {},
   "outputs": [],
   "source": [
    "def consonant_to_uppercase(word:str):\n",
    "    word = list(word.lower())\n",
    "    for i, letter in enumerate(word):\n",
    "        if letter not in 'aeiou':\n",
    "            word[i] = letter.upper()\n",
    "    print(''.join(word))"
   ]
  },
  {
   "cell_type": "code",
   "execution_count": 4,
   "metadata": {},
   "outputs": [],
   "source": [
    "def compute_mean(v1, v2, v3):\n",
    "    print('Mean value is {}'.format((v1+v2+v3)/3.0))"
   ]
  },
  {
   "cell_type": "code",
   "execution_count": 5,
   "metadata": {},
   "outputs": [],
   "source": [
    "def make_palindrome(word:str):\n",
    "    palindrome = word[::-1]\n",
    "    return word+palindrome[1:]"
   ]
  },
  {
   "cell_type": "code",
   "execution_count": 6,
   "metadata": {},
   "outputs": [],
   "source": [
    "def multiplication_table(dan: int):\n",
    "    if (dan > 1):\n",
    "        for i in range(1, dan):\n",
    "            print('------{}-------'.format(i+1))\n",
    "            for j in range(2, 11):\n",
    "                print('{} X {} = {}'.format(i+1, j, (i+1)*j))"
   ]
  },
  {
   "cell_type": "code",
   "execution_count": 7,
   "metadata": {},
   "outputs": [],
   "source": [
    "import collections\n",
    "\n",
    "def count_consonants(quote: str, f_name: str):\n",
    "    consonants = 'bcdfghjklmnpqrstvwxyz'\n",
    "    c = collections.Counter()\n",
    "    with open(f_name, 'w') as f:\n",
    "        for i in quote.lower():\n",
    "            if i in consonants:\n",
    "                c.update(i)\n",
    "        script = 'Input string: {}\\nNumber of consonants: {}'.format(quote, sum(c.values()))\n",
    "        f.write(script)"
   ]
  },
  {
   "cell_type": "code",
   "execution_count": 8,
   "metadata": {},
   "outputs": [],
   "source": [
    "def transform_memory_units(origin: str, unit: str):\n",
    "    units = {'MB': 1000.0, 'kB': 1.0, 'GB':1000000.0, 'bytes': 0.001}\n",
    "    list_origin = origin.split(' ')\n",
    "    value = float(list_origin[0])*units[list_origin[1]]/units[unit]\n",
    "    print('{} {}'.format(value, unit))"
   ]
  },
  {
   "cell_type": "code",
   "execution_count": 9,
   "metadata": {},
   "outputs": [],
   "source": [
    "def generate_sentences(subjects:list, verbs:list, objects:list):\n",
    "    sentence_list = []\n",
    "    for i in subjects:\n",
    "        for j in verbs:\n",
    "            for k in objects:\n",
    "                sentence_list.append('{} {} {}.'.format(i, j, k))\n",
    "    return sentence_list"
   ]
  },
  {
   "cell_type": "code",
   "execution_count": 10,
   "metadata": {},
   "outputs": [],
   "source": [
    "import collections\n",
    "from string import punctuation\n",
    "\n",
    "def count_occurence(paragraph: str):\n",
    "    text = paragraph.lower()\n",
    "    for i in text:\n",
    "        text_new = ''.join(i for i in text if i not in set(punctuation))\n",
    "    c = collections.Counter(text_new.split())\n",
    "    for word, count in c.most_common(5):\n",
    "        print('{} {}'.format(count, word))"
   ]
  },
  {
   "cell_type": "code",
   "execution_count": null,
   "metadata": {},
   "outputs": [],
   "source": []
  }
 ],
 "metadata": {
  "kernelspec": {
   "display_name": "Python 3",
   "language": "python",
   "name": "python3"
  },
  "language_info": {
   "codemirror_mode": {
    "name": "ipython",
    "version": 3
   },
   "file_extension": ".py",
   "mimetype": "text/x-python",
   "name": "python",
   "nbconvert_exporter": "python",
   "pygments_lexer": "ipython3",
   "version": "3.6.6"
  }
 },
 "nbformat": 4,
 "nbformat_minor": 2
}
