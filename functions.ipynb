{
 "cells": [
  {
   "cell_type": "code",
   "execution_count": 6,
   "metadata": {},
   "outputs": [
    {
     "name": "stdout",
     "output_type": "stream",
     "text": [
      "6\n",
      "0\n",
      "0\n",
      "1\n",
      "0\n",
      "3\n",
      "3\n"
     ]
    }
   ],
   "source": [
    "def divide(num1=42, num2=7):\n",
    "    return num1//num2\n",
    "\n",
    "print(divide())\n",
    "print(divide(1))\n",
    "print(divide(2))\n",
    "print(divide(5, 3))\n",
    "print(divide(5, 6))\n",
    "print(divide(10, 3))\n",
    "print(divide(6, 2))"
   ]
  },
  {
   "cell_type": "code",
   "execution_count": 14,
   "metadata": {},
   "outputs": [
    {
     "name": "stdout",
     "output_type": "stream",
     "text": [
      "write a min integer: 3\n",
      "write a max integer (bigger than or equal to min): 1\n",
      "write a max integer (bigger than or equal to min): 9\n",
      "42\n"
     ]
    }
   ],
   "source": [
    "def sum_all(sum_list=[]):\n",
    "    \"\"\"take all integer in the argument list and print the sum of them\"\"\"\n",
    "    sum = 0\n",
    "    for x in sum_list:\n",
    "        sum += x\n",
    "    print(sum)\n",
    "min = int(input('write a min integer: '))\n",
    "max = -1000000000\n",
    "while max < min:\n",
    "    max = int(input('write a max integer (bigger than or equal to min): '))\n",
    "sum_all([num for num in range(min, max + 1)])"
   ]
  },
  {
   "cell_type": "code",
   "execution_count": 13,
   "metadata": {},
   "outputs": [
    {
     "name": "stdout",
     "output_type": "stream",
     "text": [
      "small list\n",
      "small list\n",
      "small list\n",
      "big list\n",
      "big list\n"
     ]
    }
   ],
   "source": [
    "compare_list = (lambda num_list = []: print('small list') if len(num_list) <= 5 else print('big list'))\n",
    "compare_list()\n",
    "compare_list([0, 2, 4, 5])\n",
    "compare_list([0, 2, 3, 4, 5])\n",
    "compare_list([0, 2, 4, 5, 6, 12, 45, 135])\n",
    "compare_list([x for x in range(1, 10)])"
   ]
  },
  {
   "cell_type": "code",
   "execution_count": 2,
   "metadata": {},
   "outputs": [
    {
     "name": "stdout",
     "output_type": "stream",
     "text": [
      "10\n",
      "5\n"
     ]
    }
   ],
   "source": [
    "apple = 5 # global variable\n",
    "def count_apples():\n",
    "    apple = 10 # local variable\n",
    "    return apple\n",
    "print(count_apples())\n",
    "print(apple)"
   ]
  },
  {
   "cell_type": "code",
   "execution_count": 8,
   "metadata": {},
   "outputs": [
    {
     "name": "stdout",
     "output_type": "stream",
     "text": [
      "Word: hellO\n",
      "Number of uppercase letters: 1\n",
      "Number of lowercase letters: 4\n"
     ]
    }
   ],
   "source": [
    "def assess_str(word):\n",
    "    upper = 0\n",
    "    lower = 0\n",
    "    for letter in word:\n",
    "        if letter.isupper():\n",
    "            upper += 1\n",
    "        elif letter.islower():\n",
    "            lower += 1\n",
    "    return word, upper, lower\n",
    "word, upper, lower = assess_str('hellO')\n",
    "print('Word: {}\\nNumber of uppercase letters: {}\\nNumber of lowercase letters: {}'.format(word, upper, lower))"
   ]
  },
  {
   "cell_type": "code",
   "execution_count": 14,
   "metadata": {},
   "outputs": [
    {
     "name": "stdout",
     "output_type": "stream",
     "text": [
      "1\n",
      "6\n",
      "16\n",
      "7\n",
      "20\n"
     ]
    }
   ],
   "source": [
    "def count_vowels(word):\n",
    "    count = 0\n",
    "    for letter in word.lower():\n",
    "        if letter in 'aeiou':\n",
    "            count += 1\n",
    "    return count\n",
    "print(count_vowels('strengths'))\n",
    "print(count_vowels('Euouae'))\n",
    "print(count_vowels('supercalifragilisticexpialidocious'))\n",
    "print(count_vowels('sesquipedalian'))\n",
    "print(count_vowels('Pneumonoultramicroscopicsilicovolcanoconiosis'))"
   ]
  },
  {
   "cell_type": "code",
   "execution_count": 26,
   "metadata": {},
   "outputs": [
    {
     "name": "stdout",
     "output_type": "stream",
     "text": [
      "Lunch cost: 500 CZK\n",
      "Pay in cash: 56 CZK\n",
      "Pay in meal vouchers: 6 pcs, 74 CZK each\n"
     ]
    }
   ],
   "source": [
    "def meal_vouchers(lunch_cost, voucher_value):\n",
    "    cash_to_pay = lunch_cost % voucher_value\n",
    "    num_vounchers = lunch_cost // voucher_value\n",
    "    print('Lunch cost: {} CZK\\nPay in cash: {} CZK\\nPay in meal vouchers: {} pcs, {} CZK each'.format(lunch_cost, cash_to_pay, num_vounchers, voucher_value))\n",
    "cost = 500\n",
    "voucher_value = 74\n",
    "meal_vouchers(cost, voucher_value)\n"
   ]
  },
  {
   "cell_type": "code",
   "execution_count": null,
   "metadata": {},
   "outputs": [],
   "source": []
  }
 ],
 "metadata": {
  "kernelspec": {
   "display_name": "Python 3",
   "language": "python",
   "name": "python3"
  },
  "language_info": {
   "codemirror_mode": {
    "name": "ipython",
    "version": 3
   },
   "file_extension": ".py",
   "mimetype": "text/x-python",
   "name": "python",
   "nbconvert_exporter": "python",
   "pygments_lexer": "ipython3",
   "version": "3.6.6"
  }
 },
 "nbformat": 4,
 "nbformat_minor": 2
}
