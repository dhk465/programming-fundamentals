{
 "cells": [
  {
   "cell_type": "code",
   "execution_count": 8,
   "metadata": {},
   "outputs": [
    {
     "name": "stdout",
     "output_type": "stream",
     "text": [
      "[77, 7, 99, 84, 47, 19, 86, 60, 77, 72, 25, 10, 99, 47, 18]\n",
      "[120, 12, 24, 35, 24, 88, 120, 155, 88, 120, 155]\n"
     ]
    }
   ],
   "source": [
    "# Write a function remove_duplicates that will take a list as argument\n",
    "# and will return this list after removing all duplicate values.\n",
    "# It shall preserve the original order.\n",
    "\n",
    "# Example:\n",
    "# >>> result = remove_duplicates([120, 12, 24, 35, 24, 88, 120, 155, 88, 120, 155])\n",
    "# >>> result\n",
    "# [120, 12, 24, 35, 88, 155]\n",
    "\n",
    "# >>> result = remove_duplicates([77, 7, 99, 84, 47, 19, 86, 60, 77, 72, 25, 10, 99, 47, 18])\n",
    "# >>> result\n",
    "# [77, 7, 99, 84, 47, 19, 86, 60, 72, 25, 10, 18]\n",
    "\n",
    "def remove_duplicates(num_list:list):\n",
    "    num_set = list()\n",
    "    for i in num_list:\n",
    "        if i not in num_set:\n",
    "            num_set.append(i)\n",
    "    return num_set\n",
    "\n",
    "result = remove_duplicates([77, 7, 99, 84, 47, 19, 86, 60, 77, 72, 25, 10, 99, 47, 18])\n",
    "print(result)\n",
    "result = remove_duplicates([120, 12, 24, 35, 24, 88, 120, 155, 88, 120, 155])"
   ]
  },
  {
   "cell_type": "code",
   "execution_count": null,
   "metadata": {},
   "outputs": [],
   "source": []
  }
 ],
 "metadata": {
  "kernelspec": {
   "display_name": "Python 3",
   "language": "python",
   "name": "python3"
  },
  "language_info": {
   "codemirror_mode": {
    "name": "ipython",
    "version": 3
   },
   "file_extension": ".py",
   "mimetype": "text/x-python",
   "name": "python",
   "nbconvert_exporter": "python",
   "pygments_lexer": "ipython3",
   "version": "3.6.6"
  }
 },
 "nbformat": 4,
 "nbformat_minor": 2
}
