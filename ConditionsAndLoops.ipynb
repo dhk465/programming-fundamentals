{
 "cells": [
  {
   "cell_type": "code",
   "execution_count": 2,
   "metadata": {},
   "outputs": [
    {
     "name": "stdout",
     "output_type": "stream",
     "text": [
      "false\n"
     ]
    }
   ],
   "source": [
    "if 1+1 > 2:\n",
    "    print('true')\n",
    "else:\n",
    "    print('false')"
   ]
  },
  {
   "cell_type": "code",
   "execution_count": 10,
   "metadata": {},
   "outputs": [
    {
     "name": "stdout",
     "output_type": "stream",
     "text": [
      "an integer of your choice: 0\n",
      "0 is even.\n"
     ]
    }
   ],
   "source": [
    "x = int(input('an integer of your choice: '))\n",
    "if x % 2 == 0:\n",
    "    print(x, 'is even.')\n",
    "else:\n",
    "    print(x, 'is odd.')"
   ]
  },
  {
   "cell_type": "code",
   "execution_count": 19,
   "metadata": {},
   "outputs": [
    {
     "name": "stdout",
     "output_type": "stream",
     "text": [
      "What is your name?Daehee\n",
      "Error 404: Daehee is not popular.\n"
     ]
    }
   ],
   "source": [
    "names_list = ['Jiri', 'Jan', 'Marie', 'Petr', 'Jana', 'Josef', 'Pavel', 'Martin', 'Jaroslav', 'Tomas', 'Eva', 'Miroslav', 'Hana', 'Anna', 'Zdenek', 'Frantisek', 'Vaclav', 'Michal', 'Lenka', 'Katerina']\n",
    "name = input('What is your name? ')\n",
    "if name in names_list:\n",
    "    print('{}, you are one of the chosen 20.'.format(name))\n",
    "else:\n",
    "    print('Error 404: {} is not popular.'.format(name))"
   ]
  },
  {
   "cell_type": "code",
   "execution_count": 33,
   "metadata": {},
   "outputs": [
    {
     "name": "stdout",
     "output_type": "stream",
     "text": [
      "[5, 7, 9, 11, 13]\n",
      "['25 is my favourite number!', '49 is my favourite number!', '81 is my favourite number!', '121 is my favourite number!', '169 is my favourite number!']\n"
     ]
    }
   ],
   "source": [
    "num_list = list(range(5, 15, 2))\n",
    "print(num_list)\n",
    "favourites = [str(x*x) + ' is my favourite number!' for x in num_list]\n",
    "print(favourites)"
   ]
  },
  {
   "cell_type": "code",
   "execution_count": 40,
   "metadata": {},
   "outputs": [
    {
     "name": "stdout",
     "output_type": "stream",
     "text": [
      "input a base sequence: ACTAACAAATG\n",
      "Your base sequence: ACTAACAAATG\n",
      "What base are you looking for? (A, T, C, or G)A\n",
      "You can find A at the position: 1, 4, 5, 7, 8, 9\n"
     ]
    }
   ],
   "source": [
    "base_sequence = input('input a base sequence: ')\n",
    "print('Your base sequence: {}'.format(''.join(base_sequence)))\n",
    "pos_letter = input('What base are you looking for? (A, T, C, or G): ')\n",
    "seq_pos = [str(i + 1) for i in range(len(base_sequence)) if base_sequence[i] == pos_letter]\n",
    "print('You can find {} at the position: {}'.format(pos_letter, ', '.join(seq_pos)))"
   ]
  },
  {
   "cell_type": "code",
   "execution_count": null,
   "metadata": {},
   "outputs": [],
   "source": []
  }
 ],
 "metadata": {
  "kernelspec": {
   "display_name": "Python 3",
   "language": "python",
   "name": "python3"
  },
  "language_info": {
   "codemirror_mode": {
    "name": "ipython",
    "version": 3
   },
   "file_extension": ".py",
   "mimetype": "text/x-python",
   "name": "python",
   "nbconvert_exporter": "python",
   "pygments_lexer": "ipython3",
   "version": "3.6.6"
  }
 },
 "nbformat": 4,
 "nbformat_minor": 2
}
