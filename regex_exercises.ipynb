{
 "cells": [
  {
   "cell_type": "code",
   "execution_count": 1,
   "metadata": {},
   "outputs": [
    {
     "data": {
      "text/plain": [
       "'python.'"
      ]
     },
     "execution_count": 1,
     "metadata": {},
     "output_type": "execute_result"
    }
   ],
   "source": [
    "import re\n",
    "\n",
    "re.search(r'\\w+?[ao]\\w+\\.', 'i loove python.').group()\n",
    "\n",
    "# r in front of a string means the string is a raw string (no backslash functionality and etc)\n",
    "# group method will return certain matches of the search if specified\n",
    "# if there is no match, nothing will be returned"
   ]
  },
  {
   "cell_type": "code",
   "execution_count": 19,
   "metadata": {},
   "outputs": [
    {
     "name": "stdout",
     "output_type": "stream",
     "text": [
      "type a name: Daeh_\n",
      "type a name: Da_\n",
      "type a name: D_\n",
      "type a name: a_\n",
      "type a name: aD_\n",
      "type a name: aHee\n",
      "type a name: Daehee\n"
     ]
    }
   ],
   "source": [
    "import re\n",
    "\n",
    "# the input has to start with a uppercase letter and should not have any special characters incl. underscore\n",
    "\n",
    "name = input('type a name: ')\n",
    "\n",
    "pattern = re.compile(r'[A-Z]+[a-z]+$')\n",
    "match = re.match(pattern, name)\n",
    "\n",
    "while not match:\n",
    "    name = input('type a name: ')\n",
    "    match = re.match(pattern, name)"
   ]
  },
  {
   "cell_type": "code",
   "execution_count": null,
   "metadata": {},
   "outputs": [],
   "source": []
  }
 ],
 "metadata": {
  "kernelspec": {
   "display_name": "Python 3",
   "language": "python",
   "name": "python3"
  },
  "language_info": {
   "codemirror_mode": {
    "name": "ipython",
    "version": 3
   },
   "file_extension": ".py",
   "mimetype": "text/x-python",
   "name": "python",
   "nbconvert_exporter": "python",
   "pygments_lexer": "ipython3",
   "version": "3.6.6"
  }
 },
 "nbformat": 4,
 "nbformat_minor": 2
}
