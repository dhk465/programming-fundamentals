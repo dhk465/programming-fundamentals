{
 "cells": [
  {
   "cell_type": "markdown",
   "metadata": {},
   "source": [
    "# W6 - Python functions assignment"
   ]
  },
  {
   "cell_type": "markdown",
   "metadata": {},
   "source": [
    "# 1. You are investigating set of suspicious emails\n",
    "You read article that clients with numbers in email addresses are more likely to commit fraud.\n",
    "Create function that will take as parameters list of emails and searched symbol and will return symbol occurence in given set.\n",
    "\n",
    "Example\n",
    "```python\n",
    "emails = [\n",
    "    'james1@example.com', 'januline12@januline.com', 'fillip.morris@pm.com', 'ray@bradbury.org', 'me+you@hotmail.com', 'seven11@gmail.com', 'noreply@msd.com', 'cars4u@tesla.com' \n",
    "]\n",
    ">>> find_symbol_emails(emails, '1')\n",
    "0.375\n",
    "```"
   ]
  },
  {
   "cell_type": "code",
   "execution_count": 10,
   "metadata": {},
   "outputs": [
    {
     "name": "stdout",
     "output_type": "stream",
     "text": [
      "0.2\n",
      "0.5\n"
     ]
    }
   ],
   "source": [
    "def find_symbol_emails(var_list, symbol):\n",
    "    num_symbol = 0\n",
    "    for email in var_list:\n",
    "        for char in email:\n",
    "            if char == symbol:\n",
    "                num_symbol += 1\n",
    "                break\n",
    "            elif char == '@':\n",
    "                break\n",
    "    return num_symbol / len(var_list)\n",
    "\n",
    "emails = [\n",
    "    'james1@example.com', 'januline12@januline.com', 'not.a.fraud@fraud.com', 'fillip.morris@pm.com', 'daehee.kim@gmail.com', 'ray@bradbury.org', 'me+you@hotmail.com', 'seven11@gmail.com', 'noreply@msd.com', 'cars4u@tesla.com'\n",
    "]\n",
    "print(find_symbol_emails(emails, 'j'))\n",
    "print(find_symbol_emails(emails, 'r'))"
   ]
  },
  {
   "cell_type": "markdown",
   "metadata": {},
   "source": [
    "# 2. Using function from the previous exercise\n",
    "Create another function that will have as an input list of emails and list of symbols and will return dictionary with symbol occurrence in email list\n",
    "\n",
    "Example\n",
    "```python\n",
    ">>> find_symbol_list_emails(emails, ['1', '2', '+', '.'])\n",
    "{'1' : 0.375, '2' : 0.125, '+' : 0.125, '.' : 0}\n",
    "```"
   ]
  },
  {
   "cell_type": "code",
   "execution_count": 11,
   "metadata": {},
   "outputs": [
    {
     "name": "stdout",
     "output_type": "stream",
     "text": [
      "{'.': 0.3, '+': 0.1, '1': 0.3, '2': 0.1}\n"
     ]
    }
   ],
   "source": [
    "def find_symbol_list_emails(list_email, list_symbol):\n",
    "    return {symbol:find_symbol_emails(list_email, symbol) for symbol in list_symbol}\n",
    "print(find_symbol_list_emails(emails, ['.', '+', '1', '2']))"
   ]
  },
  {
   "cell_type": "markdown",
   "metadata": {},
   "source": [
    "# 3. Write function to multiply all the numbers in a list"
   ]
  },
  {
   "cell_type": "code",
   "execution_count": 17,
   "metadata": {},
   "outputs": [
    {
     "name": "stdout",
     "output_type": "stream",
     "text": [
      "60\n",
      "3628800\n"
     ]
    }
   ],
   "source": [
    "def product(list_numbers):\n",
    "    product = list_numbers[0]\n",
    "    for num in list_numbers:\n",
    "        if num != list_numbers[0]:\n",
    "            product *= num\n",
    "    return product\n",
    "print(product([3, 4, 5]))\n",
    "print(product(range(1, 10 + 1)))"
   ]
  },
  {
   "cell_type": "markdown",
   "metadata": {},
   "source": [
    "# 4. Write function that takes integer (x) and returns 3 values (x^2, x^3, x^4)\n",
    "\n",
    "Example\n",
    "```python\n",
    ">>>compute_num(2)\n",
    "4, 8, 16\n",
    "```"
   ]
  },
  {
   "cell_type": "code",
   "execution_count": 4,
   "metadata": {},
   "outputs": [
    {
     "name": "stdout",
     "output_type": "stream",
     "text": [
      "(4, 8, 16)\n",
      "(9, 27, 81)\n"
     ]
    }
   ],
   "source": [
    "def compute_num(num: int):\n",
    "    if num % 1 != 0:\n",
    "        print('{} is not an integer.'.format(num))\n",
    "    return num**2, num**3, num**4\n",
    "print(compute_num(2))\n",
    "print(compute_num(3))"
   ]
  },
  {
   "cell_type": "markdown",
   "metadata": {},
   "source": [
    "# 5. Create function to transform Fahrenheit degrees to Celsius"
   ]
  },
  {
   "cell_type": "code",
   "execution_count": 28,
   "metadata": {},
   "outputs": [
    {
     "name": "stdout",
     "output_type": "stream",
     "text": [
      "100.00\n",
      "41.67\n",
      "36.67\n",
      "3.89\n",
      "0.00\n",
      "-272.78\n"
     ]
    }
   ],
   "source": [
    "def fahrenheit_to_celsius(fahrenheit: int):\n",
    "    return (fahrenheit - 32) / 1.8\n",
    "\n",
    "print('{0:.2f}'.format(fahrenheit_to_celsius(212)))\n",
    "print('{0:.2f}'.format(fahrenheit_to_celsius(107)))\n",
    "print('{0:.2f}'.format(fahrenheit_to_celsius(98)))\n",
    "print('{0:.2f}'.format(fahrenheit_to_celsius(39)))\n",
    "print('{0:.2f}'.format(fahrenheit_to_celsius(32)))\n",
    "print('{0:.2f}'.format(fahrenheit_to_celsius(-459)))"
   ]
  },
  {
   "cell_type": "markdown",
   "metadata": {},
   "source": [
    "# 6. Write function that accepts an integer (n) and computes the value of nnn-nn-n"
   ]
  },
  {
   "cell_type": "code",
   "execution_count": 35,
   "metadata": {},
   "outputs": [
    {
     "name": "stdout",
     "output_type": "stream",
     "text": [
      "297\n",
      "99\n",
      "The input should be a single digit integer.\n"
     ]
    }
   ],
   "source": [
    "def three_digit_subtraction(single_digit: int):\n",
    "    if single_digit > 0 and single_digit < 10:\n",
    "        return (single_digit*100+single_digit*10+single_digit) - (single_digit*10+single_digit) - single_digit\n",
    "    else:\n",
    "        return 'The input should be a single digit integer.'\n",
    "print(three_digit_subtraction(3))\n",
    "print(three_digit_subtraction(1))\n",
    "print(three_digit_subtraction(11))"
   ]
  },
  {
   "cell_type": "markdown",
   "metadata": {},
   "source": [
    "# 7. Lucky ticket\n",
    "Create function that\n",
    "1. Asks user to input 6-digit number\n",
    "2. Check if input contains only numbers and has 6 numbers\n",
    "    - If no, ask user to type again\n",
    "3. Compute whether sum of first 3 digit equals sum of second 3 digit\n",
    "    - If yes, prints congratulation\n",
    "Example\n",
    "```python\n",
    ">>>lucky_ticket()\n",
    "type 6-digit ticket number: 332440\n",
    "You are lucky person!\n",
    "```"
   ]
  },
  {
   "cell_type": "code",
   "execution_count": 52,
   "metadata": {},
   "outputs": [
    {
     "name": "stdout",
     "output_type": "stream",
     "text": [
      "Type a 6-digit ticket number: 102300\n",
      "You are a lucky person!\n"
     ]
    }
   ],
   "source": [
    "def digit_sum(num:str):\n",
    "    s = 0\n",
    "    for digit in num:\n",
    "        s += int(digit)\n",
    "    return s\n",
    "\n",
    "def lucky_ticket():\n",
    "    six_digits = input('Type a 6-digit ticket number: ')\n",
    "    while len(six_digits) != 6:\n",
    "        six_digits = input('Type a 6-digit ticket number: ')\n",
    "#         for digit in six_digits:\n",
    "#             if digit not in '0123456789':\n",
    "#                 six_digits = input('Type a 6-digit ticket number: ')\n",
    "    if digit_sum(six_digits[0:3]) == digit_sum(six_digits[3:6]):\n",
    "        print('You are a lucky person!')\n",
    "    else:\n",
    "        print('Try again...')\n",
    "\n",
    "lucky_ticket()"
   ]
  },
  {
   "cell_type": "markdown",
   "metadata": {},
   "source": [
    "\n",
    "# 8. Get first and last elements\n",
    "\n",
    "Create a function that takes a list of numbers and makes a new list of only the first and last elements of the given list.\n",
    "\n",
    "e.g.\n",
    "```python\n",
    ">>> first_last([5, 10, 15, 20, 25])\n",
    "[5,25]\n",
    ">>> first_last([5])\n",
    "[5]\n",
    ">>> first_last([])\n",
    "[]\n",
    "```"
   ]
  },
  {
   "cell_type": "code",
   "execution_count": 64,
   "metadata": {},
   "outputs": [
    {
     "name": "stdout",
     "output_type": "stream",
     "text": [
      "[5, 25]\n",
      "[5]\n",
      "[]\n"
     ]
    }
   ],
   "source": [
    "def first_last(num_list):\n",
    "    result_list = []\n",
    "    if len(num_list) > 0:\n",
    "        result_list.append(num_list[0])\n",
    "    if len(num_list) > 1:\n",
    "        result_list.append(num_list[len(num_list)-1])\n",
    "    return result_list\n",
    "\n",
    "print(first_last([5, 10, 15, 20, 25]))\n",
    "print(first_last([5]))\n",
    "print(first_last([]))"
   ]
  },
  {
   "cell_type": "markdown",
   "metadata": {},
   "source": [
    "# 9. Create function to make all letters in string upper case and add *\n",
    "Example\n",
    "```python\n",
    ">>>make_fancy_string('hello')\n",
    "***HELLO***\n",
    "```"
   ]
  },
  {
   "cell_type": "code",
   "execution_count": 67,
   "metadata": {},
   "outputs": [
    {
     "name": "stdout",
     "output_type": "stream",
     "text": [
      "***HELLO, WORLD!***\n"
     ]
    }
   ],
   "source": [
    "def make_fancy_string(word:str):\n",
    "    return '***{}***'.format(word.upper())\n",
    "\n",
    "print(make_fancy_string('Hello, world!'))"
   ]
  },
  {
   "cell_type": "markdown",
   "metadata": {},
   "source": [
    "# 10. Write function to check whether string is palindrome\n",
    "Example\n",
    "```python\n",
    ">>>check_palindrome('ABBA')\n",
    "True\n",
    "```"
   ]
  },
  {
   "cell_type": "code",
   "execution_count": 68,
   "metadata": {},
   "outputs": [
    {
     "name": "stdout",
     "output_type": "stream",
     "text": [
      "True\n",
      "False\n",
      "True\n",
      "False\n",
      "True\n"
     ]
    }
   ],
   "source": [
    "def check_palindrome(word:str):\n",
    "    if word == word[::-1]:\n",
    "        return True\n",
    "    return False\n",
    "\n",
    "# or simply return word == word[::-1]\n",
    "\n",
    "print(check_palindrome('ABBA'))\n",
    "print(check_palindrome('crispr'))\n",
    "print(check_palindrome('rotator'))\n",
    "print(check_palindrome('letter'))\n",
    "print(check_palindrome('*x*'))"
   ]
  },
  {
   "cell_type": "markdown",
   "metadata": {},
   "source": [
    "# BONUS: create function that has as an input 3 letters and returns all permutations of letters"
   ]
  },
  {
   "cell_type": "code",
   "execution_count": 2,
   "metadata": {},
   "outputs": [
    {
     "data": {
      "text/plain": [
       "['abc', 'acb', 'bac', 'bca', 'cab', 'cba']"
      ]
     },
     "execution_count": 2,
     "metadata": {},
     "output_type": "execute_result"
    }
   ],
   "source": [
    "# use recursion\n",
    "\n",
    "def permutations(letters):\n",
    "    if len(letters) < 2:\n",
    "        return [letters]\n",
    "    permutation_list = []\n",
    "    for letter in letters:\n",
    "        for sub_list in permutations(''.join([item for item in letters if item != letter])):\n",
    "            permutation_list.append(letter + sub_list)\n",
    "    return permutation_list\n",
    "\n",
    "permutations('abc')"
   ]
  },
  {
   "cell_type": "code",
   "execution_count": null,
   "metadata": {},
   "outputs": [],
   "source": []
  }
 ],
 "metadata": {
  "kernelspec": {
   "display_name": "Python 3",
   "language": "python",
   "name": "python3"
  },
  "language_info": {
   "codemirror_mode": {
    "name": "ipython",
    "version": 3
   },
   "file_extension": ".py",
   "mimetype": "text/x-python",
   "name": "python",
   "nbconvert_exporter": "python",
   "pygments_lexer": "ipython3",
   "version": "3.6.6"
  }
 },
 "nbformat": 4,
 "nbformat_minor": 2
}
